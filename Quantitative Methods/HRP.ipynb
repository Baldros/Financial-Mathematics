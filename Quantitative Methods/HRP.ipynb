{
 "cells": [
  {
   "cell_type": "markdown",
   "id": "c4194f04-e5df-423b-9b56-137d93f7331a",
   "metadata": {},
   "source": [
    "# Apresentação:\n",
    "\n",
    "O objetivo deste código é implementar a técnica de **Hierarchical Risk Parity (HRP)** para alocação de pesos em uma carteira de ativos financeiros. O **HRP** utiliza métodos de **clusterização hierárquica** e correlação para otimizar a diversificação da carteira, respeitando a paridade de risco entre os ativos."
   ]
  },
  {
   "cell_type": "code",
   "execution_count": 30,
   "id": "a75af329-fadf-4381-9ebb-a8d4926b394a",
   "metadata": {},
   "outputs": [],
   "source": [
    "# Bibliotecas Utilizadas:\n",
    "import yfinance as yf\n",
    "import numpy as np\n",
    "import pandas as pd\n",
    "from scipy.cluster.hierarchy import linkage, dendrogram, fcluster\n",
    "from scipy.spatial.distance import squareform\n",
    "import matplotlib.pyplot as plt\n",
    "import seaborn as sns"
   ]
  },
  {
   "cell_type": "code",
   "execution_count": 4,
   "id": "364f5450-b9aa-41c5-9b2d-4bf9558e7e00",
   "metadata": {},
   "outputs": [
    {
     "name": "stderr",
     "output_type": "stream",
     "text": [
      "[*********************100%***********************]  5 of 5 completed\n"
     ]
    },
    {
     "data": {
      "text/html": [
       "<div>\n",
       "<style scoped>\n",
       "    .dataframe tbody tr th:only-of-type {\n",
       "        vertical-align: middle;\n",
       "    }\n",
       "\n",
       "    .dataframe tbody tr th {\n",
       "        vertical-align: top;\n",
       "    }\n",
       "\n",
       "    .dataframe thead th {\n",
       "        text-align: right;\n",
       "    }\n",
       "</style>\n",
       "<table border=\"1\" class=\"dataframe\">\n",
       "  <thead>\n",
       "    <tr style=\"text-align: right;\">\n",
       "      <th>Ticker</th>\n",
       "      <th>AAPL</th>\n",
       "      <th>AMZN</th>\n",
       "      <th>GOOG</th>\n",
       "      <th>MSFT</th>\n",
       "      <th>TSLA</th>\n",
       "    </tr>\n",
       "    <tr>\n",
       "      <th>Date</th>\n",
       "      <th></th>\n",
       "      <th></th>\n",
       "      <th></th>\n",
       "      <th></th>\n",
       "      <th></th>\n",
       "    </tr>\n",
       "  </thead>\n",
       "  <tbody>\n",
       "    <tr>\n",
       "      <th>2020-01-02 00:00:00+00:00</th>\n",
       "      <td>72.876106</td>\n",
       "      <td>94.900497</td>\n",
       "      <td>68.201012</td>\n",
       "      <td>153.938202</td>\n",
       "      <td>28.684000</td>\n",
       "    </tr>\n",
       "    <tr>\n",
       "      <th>2020-01-03 00:00:00+00:00</th>\n",
       "      <td>72.167618</td>\n",
       "      <td>93.748497</td>\n",
       "      <td>67.866325</td>\n",
       "      <td>152.021408</td>\n",
       "      <td>29.534000</td>\n",
       "    </tr>\n",
       "    <tr>\n",
       "      <th>2020-01-06 00:00:00+00:00</th>\n",
       "      <td>72.742653</td>\n",
       "      <td>95.143997</td>\n",
       "      <td>69.539726</td>\n",
       "      <td>152.414337</td>\n",
       "      <td>30.102667</td>\n",
       "    </tr>\n",
       "    <tr>\n",
       "      <th>2020-01-07 00:00:00+00:00</th>\n",
       "      <td>72.400558</td>\n",
       "      <td>95.343002</td>\n",
       "      <td>69.496330</td>\n",
       "      <td>151.024673</td>\n",
       "      <td>31.270666</td>\n",
       "    </tr>\n",
       "    <tr>\n",
       "      <th>2020-01-08 00:00:00+00:00</th>\n",
       "      <td>73.565186</td>\n",
       "      <td>94.598503</td>\n",
       "      <td>70.043991</td>\n",
       "      <td>153.430267</td>\n",
       "      <td>32.809334</td>\n",
       "    </tr>\n",
       "    <tr>\n",
       "      <th>...</th>\n",
       "      <td>...</td>\n",
       "      <td>...</td>\n",
       "      <td>...</td>\n",
       "      <td>...</td>\n",
       "      <td>...</td>\n",
       "    </tr>\n",
       "    <tr>\n",
       "      <th>2024-09-30 00:00:00+00:00</th>\n",
       "      <td>233.000000</td>\n",
       "      <td>186.330002</td>\n",
       "      <td>167.190002</td>\n",
       "      <td>430.299988</td>\n",
       "      <td>261.630005</td>\n",
       "    </tr>\n",
       "    <tr>\n",
       "      <th>2024-10-01 00:00:00+00:00</th>\n",
       "      <td>226.210007</td>\n",
       "      <td>185.130005</td>\n",
       "      <td>168.419998</td>\n",
       "      <td>420.690002</td>\n",
       "      <td>258.019989</td>\n",
       "    </tr>\n",
       "    <tr>\n",
       "      <th>2024-10-02 00:00:00+00:00</th>\n",
       "      <td>226.779999</td>\n",
       "      <td>184.759995</td>\n",
       "      <td>167.309998</td>\n",
       "      <td>417.130005</td>\n",
       "      <td>249.020004</td>\n",
       "    </tr>\n",
       "    <tr>\n",
       "      <th>2024-10-03 00:00:00+00:00</th>\n",
       "      <td>225.669998</td>\n",
       "      <td>181.960007</td>\n",
       "      <td>167.210007</td>\n",
       "      <td>416.540009</td>\n",
       "      <td>240.660004</td>\n",
       "    </tr>\n",
       "    <tr>\n",
       "      <th>2024-10-04 00:00:00+00:00</th>\n",
       "      <td>226.800003</td>\n",
       "      <td>186.509995</td>\n",
       "      <td>168.559998</td>\n",
       "      <td>416.059998</td>\n",
       "      <td>250.080002</td>\n",
       "    </tr>\n",
       "  </tbody>\n",
       "</table>\n",
       "<p>1198 rows × 5 columns</p>\n",
       "</div>"
      ],
      "text/plain": [
       "Ticker                           AAPL        AMZN        GOOG        MSFT  \\\n",
       "Date                                                                        \n",
       "2020-01-02 00:00:00+00:00   72.876106   94.900497   68.201012  153.938202   \n",
       "2020-01-03 00:00:00+00:00   72.167618   93.748497   67.866325  152.021408   \n",
       "2020-01-06 00:00:00+00:00   72.742653   95.143997   69.539726  152.414337   \n",
       "2020-01-07 00:00:00+00:00   72.400558   95.343002   69.496330  151.024673   \n",
       "2020-01-08 00:00:00+00:00   73.565186   94.598503   70.043991  153.430267   \n",
       "...                               ...         ...         ...         ...   \n",
       "2024-09-30 00:00:00+00:00  233.000000  186.330002  167.190002  430.299988   \n",
       "2024-10-01 00:00:00+00:00  226.210007  185.130005  168.419998  420.690002   \n",
       "2024-10-02 00:00:00+00:00  226.779999  184.759995  167.309998  417.130005   \n",
       "2024-10-03 00:00:00+00:00  225.669998  181.960007  167.210007  416.540009   \n",
       "2024-10-04 00:00:00+00:00  226.800003  186.509995  168.559998  416.059998   \n",
       "\n",
       "Ticker                           TSLA  \n",
       "Date                                   \n",
       "2020-01-02 00:00:00+00:00   28.684000  \n",
       "2020-01-03 00:00:00+00:00   29.534000  \n",
       "2020-01-06 00:00:00+00:00   30.102667  \n",
       "2020-01-07 00:00:00+00:00   31.270666  \n",
       "2020-01-08 00:00:00+00:00   32.809334  \n",
       "...                               ...  \n",
       "2024-09-30 00:00:00+00:00  261.630005  \n",
       "2024-10-01 00:00:00+00:00  258.019989  \n",
       "2024-10-02 00:00:00+00:00  249.020004  \n",
       "2024-10-03 00:00:00+00:00  240.660004  \n",
       "2024-10-04 00:00:00+00:00  250.080002  \n",
       "\n",
       "[1198 rows x 5 columns]"
      ]
     },
     "execution_count": 4,
     "metadata": {},
     "output_type": "execute_result"
    }
   ],
   "source": [
    "# Obter os Dados de Mercado\n",
    "tickers = ['AAPL', 'MSFT', 'GOOG', 'AMZN', 'TSLA']  # Substitua pelos tickers desejados\n",
    "data = yf.download(tickers, start=\"2020-01-01\", end=\"2024-10-05\")['Adj Close'];data"
   ]
  },
  {
   "cell_type": "markdown",
   "id": "b92debc6-2e38-42a8-aedb-a89d4ff29f09",
   "metadata": {},
   "source": [
    "Para esse modelo, assim como a paridade de risco tradicional, trabalha-se em cima dos valores de retorno. Ou seja, para calcular a correlação, deve-se utilizar os retornos dos ativos. Isso é feito calculando os retornos logarítmicos dos preços de fechamento ajustados."
   ]
  },
  {
   "cell_type": "code",
   "execution_count": 5,
   "id": "6291fb49-395a-4a24-b778-87edbe7cbc68",
   "metadata": {},
   "outputs": [
    {
     "data": {
      "text/html": [
       "<div>\n",
       "<style scoped>\n",
       "    .dataframe tbody tr th:only-of-type {\n",
       "        vertical-align: middle;\n",
       "    }\n",
       "\n",
       "    .dataframe tbody tr th {\n",
       "        vertical-align: top;\n",
       "    }\n",
       "\n",
       "    .dataframe thead th {\n",
       "        text-align: right;\n",
       "    }\n",
       "</style>\n",
       "<table border=\"1\" class=\"dataframe\">\n",
       "  <thead>\n",
       "    <tr style=\"text-align: right;\">\n",
       "      <th>Ticker</th>\n",
       "      <th>AAPL</th>\n",
       "      <th>AMZN</th>\n",
       "      <th>GOOG</th>\n",
       "      <th>MSFT</th>\n",
       "      <th>TSLA</th>\n",
       "    </tr>\n",
       "    <tr>\n",
       "      <th>Date</th>\n",
       "      <th></th>\n",
       "      <th></th>\n",
       "      <th></th>\n",
       "      <th></th>\n",
       "      <th></th>\n",
       "    </tr>\n",
       "  </thead>\n",
       "  <tbody>\n",
       "    <tr>\n",
       "      <th>2020-01-03 00:00:00+00:00</th>\n",
       "      <td>-0.009722</td>\n",
       "      <td>-0.012139</td>\n",
       "      <td>-0.004907</td>\n",
       "      <td>-0.012452</td>\n",
       "      <td>0.029633</td>\n",
       "    </tr>\n",
       "    <tr>\n",
       "      <th>2020-01-06 00:00:00+00:00</th>\n",
       "      <td>0.007968</td>\n",
       "      <td>0.014886</td>\n",
       "      <td>0.024657</td>\n",
       "      <td>0.002585</td>\n",
       "      <td>0.019255</td>\n",
       "    </tr>\n",
       "    <tr>\n",
       "      <th>2020-01-07 00:00:00+00:00</th>\n",
       "      <td>-0.004703</td>\n",
       "      <td>0.002092</td>\n",
       "      <td>-0.000624</td>\n",
       "      <td>-0.009118</td>\n",
       "      <td>0.038801</td>\n",
       "    </tr>\n",
       "    <tr>\n",
       "      <th>2020-01-08 00:00:00+00:00</th>\n",
       "      <td>0.016086</td>\n",
       "      <td>-0.007809</td>\n",
       "      <td>0.007880</td>\n",
       "      <td>0.015928</td>\n",
       "      <td>0.049205</td>\n",
       "    </tr>\n",
       "    <tr>\n",
       "      <th>2020-01-09 00:00:00+00:00</th>\n",
       "      <td>0.021241</td>\n",
       "      <td>0.004799</td>\n",
       "      <td>0.011044</td>\n",
       "      <td>0.012493</td>\n",
       "      <td>-0.021945</td>\n",
       "    </tr>\n",
       "    <tr>\n",
       "      <th>...</th>\n",
       "      <td>...</td>\n",
       "      <td>...</td>\n",
       "      <td>...</td>\n",
       "      <td>...</td>\n",
       "      <td>...</td>\n",
       "    </tr>\n",
       "    <tr>\n",
       "      <th>2024-09-30 00:00:00+00:00</th>\n",
       "      <td>0.022872</td>\n",
       "      <td>-0.008725</td>\n",
       "      <td>0.011495</td>\n",
       "      <td>0.005327</td>\n",
       "      <td>0.004492</td>\n",
       "    </tr>\n",
       "    <tr>\n",
       "      <th>2024-10-01 00:00:00+00:00</th>\n",
       "      <td>-0.029142</td>\n",
       "      <td>-0.006440</td>\n",
       "      <td>0.007357</td>\n",
       "      <td>-0.022333</td>\n",
       "      <td>-0.013798</td>\n",
       "    </tr>\n",
       "    <tr>\n",
       "      <th>2024-10-02 00:00:00+00:00</th>\n",
       "      <td>0.002520</td>\n",
       "      <td>-0.001999</td>\n",
       "      <td>-0.006591</td>\n",
       "      <td>-0.008462</td>\n",
       "      <td>-0.034881</td>\n",
       "    </tr>\n",
       "    <tr>\n",
       "      <th>2024-10-03 00:00:00+00:00</th>\n",
       "      <td>-0.004895</td>\n",
       "      <td>-0.015155</td>\n",
       "      <td>-0.000598</td>\n",
       "      <td>-0.001414</td>\n",
       "      <td>-0.033572</td>\n",
       "    </tr>\n",
       "    <tr>\n",
       "      <th>2024-10-04 00:00:00+00:00</th>\n",
       "      <td>0.005007</td>\n",
       "      <td>0.025005</td>\n",
       "      <td>0.008074</td>\n",
       "      <td>-0.001152</td>\n",
       "      <td>0.039142</td>\n",
       "    </tr>\n",
       "  </tbody>\n",
       "</table>\n",
       "<p>1197 rows × 5 columns</p>\n",
       "</div>"
      ],
      "text/plain": [
       "Ticker                         AAPL      AMZN      GOOG      MSFT      TSLA\n",
       "Date                                                                       \n",
       "2020-01-03 00:00:00+00:00 -0.009722 -0.012139 -0.004907 -0.012452  0.029633\n",
       "2020-01-06 00:00:00+00:00  0.007968  0.014886  0.024657  0.002585  0.019255\n",
       "2020-01-07 00:00:00+00:00 -0.004703  0.002092 -0.000624 -0.009118  0.038801\n",
       "2020-01-08 00:00:00+00:00  0.016086 -0.007809  0.007880  0.015928  0.049205\n",
       "2020-01-09 00:00:00+00:00  0.021241  0.004799  0.011044  0.012493 -0.021945\n",
       "...                             ...       ...       ...       ...       ...\n",
       "2024-09-30 00:00:00+00:00  0.022872 -0.008725  0.011495  0.005327  0.004492\n",
       "2024-10-01 00:00:00+00:00 -0.029142 -0.006440  0.007357 -0.022333 -0.013798\n",
       "2024-10-02 00:00:00+00:00  0.002520 -0.001999 -0.006591 -0.008462 -0.034881\n",
       "2024-10-03 00:00:00+00:00 -0.004895 -0.015155 -0.000598 -0.001414 -0.033572\n",
       "2024-10-04 00:00:00+00:00  0.005007  0.025005  0.008074 -0.001152  0.039142\n",
       "\n",
       "[1197 rows x 5 columns]"
      ]
     },
     "execution_count": 5,
     "metadata": {},
     "output_type": "execute_result"
    }
   ],
   "source": [
    "# Retornos diários como porcentagem\n",
    "returns = data.pct_change().dropna();returns"
   ]
  },
  {
   "cell_type": "markdown",
   "id": "8e750d2b-591c-4075-a11f-3abe4ad6ae92",
   "metadata": {},
   "source": [
    "# Elaborando a clusterização Hierarquica:\n",
    "\n",
    "Esse método de otimização de portifólio são baseados na **teoria de Markowitz**, deste modo são muito ligados a correlação entre os ativos. Sendo assim, precisasmos avaliar a sua associação linear entre os elementos."
   ]
  },
  {
   "cell_type": "code",
   "execution_count": 13,
   "id": "e9a3d793-6816-4882-b8c4-c2109932cc3f",
   "metadata": {},
   "outputs": [
    {
     "data": {
      "image/png": "[encoded data removed]",
      "text/plain": [
       "<Figure size 640x480 with 2 Axes>"
      ]
     },
     "metadata": {},
     "output_type": "display_data"
    }
   ],
   "source": [
    "# Matriz de Correlação:\n",
    "corr_matrix = returns.corr()\n",
    "sns.heatmap(corr_matrix, annot=True)\n",
    "plt.title(\"Matriz de Correlação\")\n",
    "plt.show()"
   ]
  },
  {
   "cell_type": "markdown",
   "id": "2623e31c-329a-43bb-bc9e-0435b0731248",
   "metadata": {},
   "source": [
    "No HRP, precisamos converter a matriz de correlação em uma matriz de distância para fazer o clustering hierárquico. A relação entre a correlação e a distância é dada por:\n",
    "\n",
    "$$D = \\sqrt{0.5\\times(1-\\text{correlation})}$$"
   ]
  },
  {
   "cell_type": "code",
   "execution_count": 12,
   "id": "704e24e1-0da4-43f1-96cf-f808e60ad3e1",
   "metadata": {},
   "outputs": [
    {
     "data": {
      "image/png": "[encoded data removed]",
      "text/plain": [
       "<Figure size 640x480 with 2 Axes>"
      ]
     },
     "metadata": {},
     "output_type": "display_data"
    }
   ],
   "source": [
    "# Converte a Matriz de Correlação em Matriz de Distância\n",
    "dist_matrix = np.sqrt(0.5 * (1 - corr_matrix))\n",
    "sns.heatmap(dist_matrix, annot=True)\n",
    "plt.title(\"Matriz de Distâncias\")\n",
    "plt.show()"
   ]
  },
  {
   "cell_type": "code",
   "execution_count": 21,
   "id": "0d683b7e-45cb-4e5a-a944-3686429b12b5",
   "metadata": {},
   "outputs": [
    {
     "data": {
      "image/png": "[encoded data removed]",
      "text/plain": [
       "<Figure size 1000x700 with 1 Axes>"
      ]
     },
     "metadata": {},
     "output_type": "display_data"
    }
   ],
   "source": [
    "# Aplicando os cluster Hierárquicos:\n",
    "condensed_dist_matrix = squareform(dist_matrix) # Gerando matrizes condensadas\n",
    "linkage_matrix = linkage(condensed_dist_matrix, method='ward')\n",
    "\n",
    "plt.figure(figsize=(10, 7))\n",
    "dendrogram(linkage_matrix, labels=returns.columns)\n",
    "plt.title(\"Dendrogram - Clustering Hierárquico dos Ativos\")\n",
    "plt.show()"
   ]
  },
  {
   "cell_type": "markdown",
   "id": "516c793a-558f-4ff7-ac99-b5ffa3433eaa",
   "metadata": {},
   "source": [
    "Podemos formar os clusters de ativos com base no dendrograma. Neste exemplo, vamos formar os clusters com base na altura do linkage.\n"
   ]
  },
  {
   "cell_type": "code",
   "execution_count": 22,
   "id": "e7e5d2cc-c3e8-4569-af18-4c622f9d3931",
   "metadata": {},
   "outputs": [],
   "source": [
    "# Forma os Clusters\n",
    "num_clusters = 3  # Defina o número de clusters desejado\n",
    "cluster_labels = fcluster(linkage_matrix, num_clusters, criterion='maxclust')"
   ]
  },
  {
   "cell_type": "code",
   "execution_count": 25,
   "id": "20c9cf03-f499-463b-8325-689b4a9e2f38",
   "metadata": {},
   "outputs": [
    {
     "name": "stdout",
     "output_type": "stream",
     "text": [
      "Pesos da carteira com HRP:\n"
     ]
    },
    {
     "data": {
      "text/plain": [
       "Ticker\n",
       "AAPL    0.111111\n",
       "AMZN    0.333333\n",
       "GOOG    0.111111\n",
       "MSFT    0.111111\n",
       "TSLA    0.333333\n",
       "dtype: float64"
      ]
     },
     "metadata": {},
     "output_type": "display_data"
    }
   ],
   "source": [
    "# Inicializando os pesos de cada ativo como float\n",
    "weights = pd.Series(0.0, index=returns.columns)  # Inicializando como 0.0 para garantir o tipo float\n",
    "\n",
    "# Alocação de pesos entre clusters\n",
    "cluster_weight = 1.0 / num_clusters\n",
    "\n",
    "for cluster in range(1, num_clusters + 1):\n",
    "    # Ativos no cluster atual\n",
    "    cluster_assets = cluster_df[cluster_df['Cluster'] == cluster]['Asset']\n",
    "    num_assets = len(cluster_assets)\n",
    "    # Peso igual para cada ativo dentro do cluster\n",
    "    asset_weight = cluster_weight / num_assets\n",
    "    weights[cluster_assets] = asset_weight\n",
    "\n",
    "# Exibindo os pesos finais da carteira\n",
    "print(\"Pesos da carteira com HRP:\")\n",
    "print(weights)"
   ]
  },
  {
   "cell_type": "code",
   "execution_count": 29,
   "id": "e15ec8c0-24fd-4364-9bb6-b6b53d040942",
   "metadata": {},
   "outputs": [
    {
     "name": "stdout",
     "output_type": "stream",
     "text": [
      "Respeita a sujeição dos pesos :>\n"
     ]
    }
   ],
   "source": [
    "# Validando Pesos:\n",
    "if weights.sum() == 1:\n",
    "    print(\"Respeita a sujeição dos pesos :>\")\n",
    "else:\n",
    "    print(weights.sum())\n",
    "    print(\"Não respeita a sujeição dos pesos\")"
   ]
  },
  {
   "cell_type": "code",
   "execution_count": 31,
   "id": "2afb13e0-a8bf-4bbb-a803-26cf1ddc55bc",
   "metadata": {},
   "outputs": [
    {
     "name": "stderr",
     "output_type": "stream",
     "text": [
      "[*********************100%***********************]  5 of 5 completed"
     ]
    },
    {
     "name": "stdout",
     "output_type": "stream",
     "text": [
      "Pesos da carteira com Paridade de Risco:\n",
      "AAPL: 0.2000\n",
      "MSFT: 0.2000\n",
      "GOOG: 0.2000\n",
      "AMZN: 0.2000\n",
      "TSLA: 0.2000\n"
     ]
    },
    {
     "name": "stderr",
     "output_type": "stream",
     "text": [
      "\n"
     ]
    }
   ],
   "source": [
    "import yfinance as yf\n",
    "import numpy as np\n",
    "import pandas as pd\n",
    "from scipy.optimize import minimize\n",
    "\n",
    "# Passo 1: Obter dados históricos dos preços dos ativos\n",
    "tickers = ['AAPL', 'MSFT', 'GOOG', 'AMZN', 'TSLA']\n",
    "data = yf.download(tickers, start=\"2022-01-01\", end=\"2024-10-05\")['Adj Close']\n",
    "\n",
    "# Passo 2: Calcular os retornos diários dos ativos\n",
    "returns = data.pct_change().dropna()\n",
    "\n",
    "# Passo 3: Calcular a matriz de covariância dos retornos\n",
    "cov_matrix = returns.cov()\n",
    "\n",
    "# Função para calcular a contribuição ao risco de cada ativo\n",
    "def risk_contribution(weights, cov_matrix):\n",
    "    # Calcular a variância do portfólio\n",
    "    portfolio_variance = np.dot(weights.T, np.dot(cov_matrix, weights))\n",
    "    portfolio_volatility = np.sqrt(portfolio_variance)\n",
    "    # Calcular as contribuições ao risco dos ativos\n",
    "    marginal_risk = np.dot(cov_matrix, weights)\n",
    "    risk_contributions = weights * marginal_risk / portfolio_volatility\n",
    "    return risk_contributions\n",
    "\n",
    "# Função de perda para minimizar a diferença entre as contribuições de risco\n",
    "def loss_function(weights, cov_matrix):\n",
    "    risk_contributions = risk_contribution(weights, cov_matrix)\n",
    "    # Diferença entre as contribuições de risco e a contribuição média\n",
    "    mean_contribution = np.mean(risk_contributions)\n",
    "    return np.sum((risk_contributions - mean_contribution)**2)\n",
    "\n",
    "# Definir as restrições e limites para a otimização\n",
    "num_assets = len(tickers)\n",
    "initial_weights = np.ones(num_assets) / num_assets  # Começando com pesos iguais\n",
    "constraints = ({'type': 'eq', 'fun': lambda x: np.sum(x) - 1})  # A soma dos pesos deve ser 1\n",
    "bounds = [(0, 1) for i in range(num_assets)]  # Pesos devem ser entre 0 e 1\n",
    "\n",
    "# Otimizar os pesos para alcançar a paridade de risco\n",
    "result = minimize(loss_function, initial_weights, args=(cov_matrix,), method='SLSQP', bounds=bounds, constraints=constraints)\n",
    "\n",
    "# Pesos finais da paridade de risco\n",
    "weights = result.x\n",
    "\n",
    "# Exibindo os pesos finais\n",
    "print(\"Pesos da carteira com Paridade de Risco:\")\n",
    "for ticker, weight in zip(tickers, weights):\n",
    "    print(f\"{ticker}: {weight:.4f}\")\n"
   ]
  }
 ],
 "metadata": {
  "kernelspec": {
   "display_name": "Python 3 (ipykernel)",
   "language": "python",
   "name": "python3"
  },
  "language_info": {
   "codemirror_mode": {
    "name": "ipython",
    "version": 3
   },
   "file_extension": ".py",
   "mimetype": "text/x-python",
   "name": "python",
   "nbconvert_exporter": "python",
   "pygments_lexer": "ipython3",
   "version": "3.10.13"
  }
 },
 "nbformat": 4,
 "nbformat_minor": 5
}
