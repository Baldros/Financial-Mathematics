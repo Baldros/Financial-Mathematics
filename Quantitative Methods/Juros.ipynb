{
 "cells": [
  {
   "cell_type": "markdown",
   "id": "1317365b-88a1-440f-a830-8f1d6a626c5b",
   "metadata": {},
   "source": [
    "# Apresentação:\n",
    "\n",
    "O objetivo desse código é estudar um pouco sobre juros e elementos iniciais da Matemática Financeira. A título de implementação, o tempo aqui será considerado **discreto**, cabendo a quem implementar a função definir adequadamente seus parâmetros."
   ]
  },
  {
   "cell_type": "code",
   "execution_count": 2,
   "id": "860b73ae-6bf2-4b2b-b9a4-75b5201bbffd",
   "metadata": {},
   "outputs": [],
   "source": [
    "# Bibliotecas Importadas:\n",
    "import numpy as np\n",
    "import seaborn as sns\n",
    "from matplotlib import pyplot as plt"
   ]
  },
  {
   "cell_type": "code",
   "execution_count": 10,
   "id": "6df93048-0186-4cca-b495-2a1c1a89c557",
   "metadata": {},
   "outputs": [],
   "source": [
    "# Elementos:\n",
    "c = 1200 # Entrada\n",
    "r = .2 # 20% ao mês\n",
    "t = 6 # meses"
   ]
  },
  {
   "cell_type": "markdown",
   "id": "7cb58437-99eb-49a6-b8a1-a84d8607c88a",
   "metadata": {},
   "source": [
    "# Juros Simples:\n",
    "\n",
    "O **juros simples** é uma das formas de se calcular juros. Na prática, não conheço nenhum lugar que implementa essa estratégia de juros, todavia, a título de estudo, vou implementa-la. O juros simples é definido como,\n",
    "\n",
    "$$J(C,r,t) = Crt$$\n",
    "\n",
    "Onde,\n",
    "* C: É o Capital Inicial (ou Principal);\n",
    "* r: Taxa a se cobrar;\n",
    "* t: Tempo de decorrencia do acumulo de juros."
   ]
  },
  {
   "cell_type": "code",
   "execution_count": 8,
   "id": "bacef965-9ae3-421c-a7ce-2e9785dfdb4c",
   "metadata": {},
   "outputs": [],
   "source": [
    "def jSimples(C: float,r: float,t:int) -> float:\n",
    "    '''\n",
    "    Função que calcula o Juros Simples de\n",
    "    uma aplicação. Levando em Consideração\n",
    "    qualquer unidade de tempo, desde que seja\n",
    "    discreta.\n",
    "\n",
    "    # Entradas:\n",
    "    float: Capital Inicial;\n",
    "    float: Taxa de Juros;\n",
    "    int: Tempo (discreto).\n",
    "\n",
    "    # Saída:\n",
    "    float: Juros ganhos.\n",
    "    '''\n",
    "\n",
    "    # Cálculo do Juros:\n",
    "    jurosSimples = C*r*t\n",
    "\n",
    "    return jurosSimples"
   ]
  },
  {
   "cell_type": "code",
   "execution_count": 11,
   "id": "36697059-9be3-4576-808a-92e9720bb02c",
   "metadata": {},
   "outputs": [
    {
     "data": {
      "text/plain": [
       "1440.0"
      ]
     },
     "execution_count": 11,
     "metadata": {},
     "output_type": "execute_result"
    }
   ],
   "source": [
    "js = jSimples(c,r,t);js"
   ]
  },
  {
   "cell_type": "markdown",
   "id": "ed019abb-fa0a-4a2f-b048-f7a86d6c0e5e",
   "metadata": {},
   "source": [
    "# Juros Compostos:\n",
    "\n",
    "O **Juros Compostos** é uma estratégia de calculo de juros mais em conformes com o mercado. O calculo de Juros Compostos é apresentado em partes, primeiro se calcula o resultado do capital inicial somado ao juros, aqui definido como Montante `M`.\n",
    "\n",
    "$$M(C,r,t) = c\\left(1+\\frac{r}{n}\\right)^{nt} = c(1+i)^t = C + J$$\n",
    "\n",
    "Onde,\n",
    "* M: Montante Final;\n",
    "* C: Capital Inicial;\n",
    "* r: Taxa do Juros;\n",
    "* n: Número de vezes que os juros são compostos\n",
    "* t: tempo.\n",
    "\n",
    "Então, calculamos o Juros,\n",
    "\n",
    "$$J = M - C$$"
   ]
  },
  {
   "cell_type": "code",
   "execution_count": 18,
   "id": "f95029eb-2c44-4075-8d4e-ef766ac90137",
   "metadata": {},
   "outputs": [],
   "source": [
    "def jCompostos(C:float,r:float,t:int,n:int) -> float:\n",
    "    '''\n",
    "    Função que calcula o juros Compostos\n",
    "    de uma aplicação.\n",
    "\n",
    "    # Entradas:\n",
    "    float: Capital Inicial;\n",
    "    float: Taxa do Juros;\n",
    "    int: Tempo total da aplicação;\n",
    "    int: Periodo.\n",
    "    '''\n",
    "    \n",
    "    # Calculando o mantante:\n",
    "    M = C*(1+r/n)**(n*t)\n",
    "    \n",
    "    # Calculando Juros:\n",
    "    Juros = M - C\n",
    "\n",
    "    return Juros"
   ]
  },
  {
   "cell_type": "code",
   "execution_count": null,
   "id": "cb05db51-14d8-43af-b5c8-78cb2604870b",
   "metadata": {},
   "outputs": [],
   "source": [
    "jCompostos(c, r, t/12, n) "
   ]
  }
 ],
 "metadata": {
  "kernelspec": {
   "display_name": "Python 3 (ipykernel)",
   "language": "python",
   "name": "python3"
  },
  "language_info": {
   "codemirror_mode": {
    "name": "ipython",
    "version": 3
   },
   "file_extension": ".py",
   "mimetype": "text/x-python",
   "name": "python",
   "nbconvert_exporter": "python",
   "pygments_lexer": "ipython3",
   "version": "3.10.13"
  }
 },
 "nbformat": 4,
 "nbformat_minor": 5
}
